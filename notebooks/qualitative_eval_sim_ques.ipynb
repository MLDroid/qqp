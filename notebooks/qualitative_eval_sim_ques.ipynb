{
 "cells": [
  {
   "cell_type": "code",
   "execution_count": 1,
   "metadata": {},
   "outputs": [],
   "source": [
    "import numpy as np\n",
    "import json\n",
    "from time import time\n",
    "from pprint import pprint"
   ]
  },
  {
   "cell_type": "code",
   "execution_count": 2,
   "metadata": {},
   "outputs": [],
   "source": [
    "\n",
    "def load_id_ques_map(fname):\n",
    "    with open(fname) as fh:\n",
    "        id_ques_map = json.load(fh)\n",
    "    id_ques_map = {int(k): str(v) for k, v in id_ques_map.items()}\n",
    "    id_ques_map[0] = ''\n",
    "    print(f'Loaded {max(id_ques_map.keys())} ids to questions from {fname}')\n",
    "    return id_ques_map"
   ]
  },
  {
   "cell_type": "code",
   "execution_count": 4,
   "metadata": {},
   "outputs": [
    {
     "name": "stdout",
     "output_type": "stream",
     "text": [
      "Loaded 537933 ids to questions from ./id_ques_map.json\n"
     ]
    }
   ],
   "source": [
    "id_ques_map = load_id_ques_map('./id_ques_map.json')"
   ]
  },
  {
   "cell_type": "code",
   "execution_count": 13,
   "metadata": {},
   "outputs": [
    {
     "name": "stdout",
     "output_type": "stream",
     "text": [
      "__init__.py            most_sim_inds_52.npy  sim_values_141.npy\r\n",
      "\u001b[0m\u001b[01;34m__pycache__\u001b[0m/           most_sim_inds_53.npy  sim_values_142.npy\r\n",
      "config.py              most_sim_inds_54.npy  sim_values_143.npy\r\n",
      "\u001b[01;34mdata\u001b[0m/                  most_sim_inds_55.npy  sim_values_144.npy\r\n",
      "dataset.py             most_sim_inds_56.npy  sim_values_145.npy\r\n",
      "model.py               most_sim_inds_57.npy  sim_values_146.npy\r\n",
      "most_sim_inds.npy      most_sim_inds_58.npy  sim_values_15.npy\r\n",
      "most_sim_inds_1.npy    most_sim_inds_59.npy  sim_values_16.npy\r\n",
      "most_sim_inds_10.npy   most_sim_inds_6.npy   sim_values_17.npy\r\n",
      "most_sim_inds_100.npy  most_sim_inds_60.npy  sim_values_18.npy\r\n",
      "most_sim_inds_101.npy  most_sim_inds_61.npy  sim_values_19.npy\r\n",
      "most_sim_inds_102.npy  most_sim_inds_62.npy  sim_values_2.npy\r\n",
      "most_sim_inds_103.npy  most_sim_inds_63.npy  sim_values_20.npy\r\n",
      "most_sim_inds_104.npy  most_sim_inds_64.npy  sim_values_21.npy\r\n",
      "most_sim_inds_105.npy  most_sim_inds_65.npy  sim_values_22.npy\r\n",
      "most_sim_inds_106.npy  most_sim_inds_66.npy  sim_values_23.npy\r\n",
      "most_sim_inds_107.npy  most_sim_inds_67.npy  sim_values_24.npy\r\n",
      "most_sim_inds_108.npy  most_sim_inds_68.npy  sim_values_25.npy\r\n",
      "most_sim_inds_109.npy  most_sim_inds_69.npy  sim_values_26.npy\r\n",
      "most_sim_inds_11.npy   most_sim_inds_7.npy   sim_values_27.npy\r\n",
      "most_sim_inds_110.npy  most_sim_inds_70.npy  sim_values_28.npy\r\n",
      "most_sim_inds_111.npy  most_sim_inds_71.npy  sim_values_29.npy\r\n",
      "most_sim_inds_112.npy  most_sim_inds_72.npy  sim_values_3.npy\r\n",
      "most_sim_inds_113.npy  most_sim_inds_73.npy  sim_values_30.npy\r\n",
      "most_sim_inds_114.npy  most_sim_inds_74.npy  sim_values_31.npy\r\n",
      "most_sim_inds_115.npy  most_sim_inds_75.npy  sim_values_32.npy\r\n",
      "most_sim_inds_116.npy  most_sim_inds_76.npy  sim_values_33.npy\r\n",
      "most_sim_inds_117.npy  most_sim_inds_77.npy  sim_values_34.npy\r\n",
      "most_sim_inds_118.npy  most_sim_inds_78.npy  sim_values_35.npy\r\n",
      "most_sim_inds_119.npy  most_sim_inds_79.npy  sim_values_36.npy\r\n",
      "most_sim_inds_12.npy   most_sim_inds_8.npy   sim_values_37.npy\r\n",
      "most_sim_inds_120.npy  most_sim_inds_80.npy  sim_values_38.npy\r\n",
      "most_sim_inds_121.npy  most_sim_inds_81.npy  sim_values_39.npy\r\n",
      "most_sim_inds_122.npy  most_sim_inds_82.npy  sim_values_4.npy\r\n",
      "most_sim_inds_123.npy  most_sim_inds_83.npy  sim_values_40.npy\r\n",
      "most_sim_inds_124.npy  most_sim_inds_84.npy  sim_values_41.npy\r\n",
      "most_sim_inds_125.npy  most_sim_inds_85.npy  sim_values_42.npy\r\n",
      "most_sim_inds_126.npy  most_sim_inds_86.npy  sim_values_43.npy\r\n",
      "most_sim_inds_127.npy  most_sim_inds_87.npy  sim_values_44.npy\r\n",
      "most_sim_inds_128.npy  most_sim_inds_88.npy  sim_values_45.npy\r\n",
      "most_sim_inds_129.npy  most_sim_inds_89.npy  sim_values_46.npy\r\n",
      "most_sim_inds_13.npy   most_sim_inds_9.npy   sim_values_47.npy\r\n",
      "most_sim_inds_130.npy  most_sim_inds_90.npy  sim_values_48.npy\r\n",
      "most_sim_inds_131.npy  most_sim_inds_91.npy  sim_values_49.npy\r\n",
      "most_sim_inds_132.npy  most_sim_inds_92.npy  sim_values_5.npy\r\n",
      "most_sim_inds_133.npy  most_sim_inds_93.npy  sim_values_50.npy\r\n",
      "most_sim_inds_134.npy  most_sim_inds_94.npy  sim_values_51.npy\r\n",
      "most_sim_inds_135.npy  most_sim_inds_95.npy  sim_values_52.npy\r\n",
      "most_sim_inds_136.npy  most_sim_inds_96.npy  sim_values_53.npy\r\n",
      "most_sim_inds_137.npy  most_sim_inds_97.npy  sim_values_54.npy\r\n",
      "most_sim_inds_138.npy  most_sim_inds_98.npy  sim_values_55.npy\r\n",
      "most_sim_inds_139.npy  most_sim_inds_99.npy  sim_values_56.npy\r\n",
      "most_sim_inds_14.npy   \u001b[01;34msim_scorer\u001b[0m/           sim_values_57.npy\r\n",
      "most_sim_inds_140.npy  sim_values.npy        sim_values_58.npy\r\n",
      "most_sim_inds_141.npy  sim_values_1.npy      sim_values_59.npy\r\n",
      "most_sim_inds_142.npy  sim_values_10.npy     sim_values_6.npy\r\n",
      "most_sim_inds_143.npy  sim_values_100.npy    sim_values_60.npy\r\n",
      "most_sim_inds_144.npy  sim_values_101.npy    sim_values_61.npy\r\n",
      "most_sim_inds_145.npy  sim_values_102.npy    sim_values_62.npy\r\n",
      "most_sim_inds_146.npy  sim_values_103.npy    sim_values_63.npy\r\n",
      "most_sim_inds_15.npy   sim_values_104.npy    sim_values_64.npy\r\n",
      "most_sim_inds_16.npy   sim_values_105.npy    sim_values_65.npy\r\n",
      "most_sim_inds_17.npy   sim_values_106.npy    sim_values_66.npy\r\n",
      "most_sim_inds_18.npy   sim_values_107.npy    sim_values_67.npy\r\n",
      "most_sim_inds_19.npy   sim_values_108.npy    sim_values_68.npy\r\n",
      "most_sim_inds_2.npy    sim_values_109.npy    sim_values_69.npy\r\n",
      "most_sim_inds_20.npy   sim_values_11.npy     sim_values_7.npy\r\n",
      "most_sim_inds_21.npy   sim_values_110.npy    sim_values_70.npy\r\n",
      "most_sim_inds_22.npy   sim_values_111.npy    sim_values_71.npy\r\n",
      "most_sim_inds_23.npy   sim_values_112.npy    sim_values_72.npy\r\n",
      "most_sim_inds_24.npy   sim_values_113.npy    sim_values_73.npy\r\n",
      "most_sim_inds_25.npy   sim_values_114.npy    sim_values_74.npy\r\n",
      "most_sim_inds_26.npy   sim_values_115.npy    sim_values_75.npy\r\n",
      "most_sim_inds_27.npy   sim_values_116.npy    sim_values_76.npy\r\n",
      "most_sim_inds_28.npy   sim_values_117.npy    sim_values_77.npy\r\n",
      "most_sim_inds_29.npy   sim_values_118.npy    sim_values_78.npy\r\n",
      "most_sim_inds_3.npy    sim_values_119.npy    sim_values_79.npy\r\n",
      "most_sim_inds_30.npy   sim_values_12.npy     sim_values_8.npy\r\n",
      "most_sim_inds_31.npy   sim_values_120.npy    sim_values_80.npy\r\n",
      "most_sim_inds_32.npy   sim_values_121.npy    sim_values_81.npy\r\n",
      "most_sim_inds_33.npy   sim_values_122.npy    sim_values_82.npy\r\n",
      "most_sim_inds_34.npy   sim_values_123.npy    sim_values_83.npy\r\n",
      "most_sim_inds_35.npy   sim_values_124.npy    sim_values_84.npy\r\n",
      "most_sim_inds_36.npy   sim_values_125.npy    sim_values_85.npy\r\n",
      "most_sim_inds_37.npy   sim_values_126.npy    sim_values_86.npy\r\n",
      "most_sim_inds_38.npy   sim_values_127.npy    sim_values_87.npy\r\n",
      "most_sim_inds_39.npy   sim_values_128.npy    sim_values_88.npy\r\n",
      "most_sim_inds_4.npy    sim_values_129.npy    sim_values_89.npy\r\n",
      "most_sim_inds_40.npy   sim_values_13.npy     sim_values_9.npy\r\n",
      "most_sim_inds_41.npy   sim_values_130.npy    sim_values_90.npy\r\n",
      "most_sim_inds_42.npy   sim_values_131.npy    sim_values_91.npy\r\n",
      "most_sim_inds_43.npy   sim_values_132.npy    sim_values_92.npy\r\n",
      "most_sim_inds_44.npy   sim_values_133.npy    sim_values_93.npy\r\n",
      "most_sim_inds_45.npy   sim_values_134.npy    sim_values_94.npy\r\n",
      "most_sim_inds_46.npy   sim_values_135.npy    sim_values_95.npy\r\n",
      "most_sim_inds_47.npy   sim_values_136.npy    sim_values_96.npy\r\n",
      "most_sim_inds_48.npy   sim_values_137.npy    sim_values_97.npy\r\n",
      "most_sim_inds_49.npy   sim_values_138.npy    sim_values_98.npy\r\n",
      "most_sim_inds_5.npy    sim_values_139.npy    sim_values_99.npy\r\n",
      "most_sim_inds_50.npy   sim_values_14.npy     vanilla_transformer.py\r\n",
      "most_sim_inds_51.npy   sim_values_140.npy\r\n"
     ]
    }
   ],
   "source": [
    "ls .."
   ]
  },
  {
   "cell_type": "code",
   "execution_count": 16,
   "metadata": {},
   "outputs": [],
   "source": [
    "sim_files = [f'../sim_values_{i}.npy' for i in range(1,10)]\n",
    "ind_files = [f'../most_sim_inds_{i}.npy' for i in range(1,10)]"
   ]
  },
  {
   "cell_type": "code",
   "execution_count": 17,
   "metadata": {},
   "outputs": [],
   "source": [
    "sim_values = [np.load(f) for f in sim_files]\n",
    "ind_values = [np.load(f) for f in ind_files]"
   ]
  },
  {
   "cell_type": "code",
   "execution_count": 20,
   "metadata": {},
   "outputs": [
    {
     "data": {
      "text/plain": [
       "((27000, 100), (27000, 100))"
      ]
     },
     "execution_count": 20,
     "metadata": {},
     "output_type": "execute_result"
    }
   ],
   "source": [
    "sim_values = np.vstack(sim_values)\n",
    "most_sim_inds = np.vstack(ind_values)\n",
    "sim_values.shape, ind_values.shape"
   ]
  },
  {
   "cell_type": "code",
   "execution_count": null,
   "metadata": {},
   "outputs": [
    {
     "name": "stdout",
     "output_type": "stream",
     "text": [
      "How do I hack Motorola DCX3400 for free internet?\n",
      "[(0.9999999, 'How do I hack Motorola DCX3400 for free internet?'),\n",
      " (0.810973, 'Motorola (company): Can I hack my Charter Motorolla DCX3400?'),\n",
      " (0.7491978, 'How do I use free internet on idea network?')]\n",
      "******************************\n",
      "\n",
      "Method to find separation of slits using fresnel biprism?\n",
      "[(0.9999997, 'Method to find separation of slits using fresnel biprism?'),\n",
      " (0.70683706, 'What is the Fresnel diffraction?'),\n",
      " (0.6962177,\n",
      "  \"Is de Broglie's subquantic medium a strongly interacting dark matter? Is \"\n",
      "  'there evidence of the dark matter when a double slit experiment is '\n",
      "  'performed?')]\n",
      "******************************\n",
      "\n",
      "What are some of the things technicians can tell about the durability and reliability of Laptops and its components?\n",
      "[(1.0000001,\n",
      "  'What are some of the things technicians can tell about the durability and '\n",
      "  'reliability of Laptops and its components?'),\n",
      " (0.6903705,\n",
      "  \"How do I perform load and processing test on a laptop to check it's \"\n",
      "  'performance and find out if it can handle high data processing?'),\n",
      " (0.68726504,\n",
      "  'What are good sources of information on embedded software testing and '\n",
      "  'quality assurance?')]\n",
      "******************************\n",
      "\n",
      "How do I read and find my YouTube comments?\n",
      "[(0.99999994, 'How do I read and find my YouTube comments?'),\n",
      " (0.9289829, 'How can I see all my Youtube comments?'),\n",
      " (0.92756313, 'How could I see my YouTube liked comments?')]\n",
      "******************************\n",
      "\n",
      "How can I see all my Youtube comments?\n",
      "[(1.0, 'How can I see all my Youtube comments?'),\n",
      " (0.9396311, 'How do I get all the YouTube views?'),\n",
      " (0.9289829, 'How do I read and find my YouTube comments?')]\n",
      "******************************\n",
      "\n",
      "What can make Physics easy to learn?\n",
      "[(0.9999994, 'What can make Physics easy to learn?'),\n",
      " (0.9848125, 'How can you make physics easy to learn?'),\n",
      " (0.9229434, 'Is there a way to make learning physics easier?')]\n",
      "******************************\n",
      "\n",
      "How can you make physics easy to learn?\n",
      "[(1.0, 'How can you make physics easy to learn?'),\n",
      " (0.9848125, 'What can make Physics easy to learn?'),\n",
      " (0.9135488, 'Is there a way to make learning physics easier?')]\n",
      "******************************\n",
      "\n",
      "What was your first sexual experience like?\n",
      "[(1.0000002, 'What was your first sexual experience like?'),\n",
      " (0.99051785, 'What was your first sexual experience?'),\n",
      " (0.984459, 'What was your first sexual experience like for you?')]\n",
      "******************************\n",
      "\n",
      "What was your first sexual experience?\n",
      "[(1.0000001, 'What was your first sexual experience?'),\n",
      " (0.99051785, 'What was your first sexual experience like?'),\n",
      " (0.9855261, 'What is your first sexual experience?')]\n",
      "******************************\n"
     ]
    }
   ],
   "source": [
    "for i in range(20,31):\n",
    "    src_ques = id_ques_map[i]\n",
    "    sim_ques_ids = most_sim_inds[i][:3]\n",
    "    sim_vals = sim_values[i][:3]\n",
    "    sim_ques = [id_ques_map[qid] for qid in sim_ques_ids]\n",
    "    print(src_ques)\n",
    "    pprint(list(zip(sim_vals,sim_ques)))\n",
    "    print('***'*10)\n",
    "    input()"
   ]
  },
  {
   "cell_type": "code",
   "execution_count": null,
   "metadata": {},
   "outputs": [],
   "source": [
    "\n",
    "\n",
    "\n"
   ]
  }
 ],
 "metadata": {
  "kernelspec": {
   "display_name": "Python 3",
   "language": "python",
   "name": "python3"
  },
  "language_info": {
   "codemirror_mode": {
    "name": "ipython",
    "version": 3
   },
   "file_extension": ".py",
   "mimetype": "text/x-python",
   "name": "python",
   "nbconvert_exporter": "python",
   "pygments_lexer": "ipython3",
   "version": "3.7.7"
  }
 },
 "nbformat": 4,
 "nbformat_minor": 4
}
