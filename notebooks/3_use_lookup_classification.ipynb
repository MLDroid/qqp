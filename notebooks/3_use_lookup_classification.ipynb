{
 "cells": [
  {
   "cell_type": "code",
   "execution_count": 14,
   "metadata": {},
   "outputs": [],
   "source": [
    "import os\n",
    "# os.environ[\"CUDA_DEVICE_ORDER\"]=\"PCI_BUS_ID\"\n",
    "# os.environ[\"CUDA_VISIBLE_DEVICES\"]=\"\"\n",
    "\n",
    "from absl import logging\n",
    "\n",
    "import tensorflow as tf\n",
    "import tensorflow_hub as hub\n",
    "import matplotlib.pyplot as plt\n",
    "import re\n",
    "import seaborn as sns\n",
    "from sklearn.metrics import roc_auc_score, f1_score, accuracy_score, precision_score, recall_score\n",
    "from tqdm import tqdm\n",
    "import ast, json, numpy as np"
   ]
  },
  {
   "cell_type": "code",
   "execution_count": 15,
   "metadata": {},
   "outputs": [],
   "source": [
    "from sklearn.linear_model import LogisticRegression\n",
    "from sklearn.svm import LinearSVC\n",
    "from time import time\n",
    "from sklearn.preprocessing import normalize"
   ]
  },
  {
   "cell_type": "code",
   "execution_count": 16,
   "metadata": {},
   "outputs": [],
   "source": [
    "X_train_fname = './train_pairs.txt'\n",
    "X_valid_fname = './valid_pairs.txt'\n",
    "id_ques_map_fname = './id_ques_map.json'\n",
    "y_train_fname = './y_train.txt'\n",
    "y_valid_fname = './y_valid.txt'\n",
    "\n",
    "def load_id_ques_map(fname):\n",
    "    with open(fname) as fh:\n",
    "        id_ques_map = json.load(fh)\n",
    "    id_ques_map = {int(k): str(v) for k, v in id_ques_map.items()}\n",
    "    id_ques_map[0] = ''\n",
    "    print(f'Loaded {max(id_ques_map.keys())} ids to questions from {fname}')\n",
    "    return id_ques_map\n",
    "\n",
    "\n",
    "def load_Xy(max_samples=None):\n",
    "    train_pairs = np.array([list(ast.literal_eval(l.strip())) for l in\n",
    "                            open(X_train_fname).readlines()])[:max_samples]\n",
    "    valid_pairs = np.array([list(ast.literal_eval(l.strip())) for l in\n",
    "                            open(X_valid_fname).readlines()])[:max_samples]\n",
    "\n",
    "    id_ques_map = load_id_ques_map(id_ques_map_fname)\n",
    "    X_train = [(id_ques_map[i], id_ques_map[j]) for i,j in train_pairs]\n",
    "    X_valid = [(id_ques_map[i], id_ques_map[j]) for i,j in valid_pairs]\n",
    "\n",
    "    y_train = np.loadtxt(y_train_fname).astype(int)[:max_samples]\n",
    "    y_valid = np.loadtxt(y_valid_fname).astype(int)[:max_samples]\n",
    "\n",
    "    return X_train, X_valid, y_train, y_valid\n"
   ]
  },
  {
   "cell_type": "code",
   "execution_count": 17,
   "metadata": {},
   "outputs": [],
   "source": [
    "max_samples = None"
   ]
  },
  {
   "cell_type": "code",
   "execution_count": 18,
   "metadata": {},
   "outputs": [
    {
     "name": "stdout",
     "output_type": "stream",
     "text": [
      "Loaded 537933 ids to questions from ./id_ques_map.json\n"
     ]
    }
   ],
   "source": [
    "X_train, X_valid, y_train, y_valid = load_Xy(max_samples)"
   ]
  },
  {
   "cell_type": "code",
   "execution_count": 19,
   "metadata": {},
   "outputs": [],
   "source": [
    "use_model = hub.load(\"https://tfhub.dev/google/universal-sentence-encoder/4\")"
   ]
  },
  {
   "cell_type": "code",
   "execution_count": 20,
   "metadata": {},
   "outputs": [
    {
     "name": "stdout",
     "output_type": "stream",
     "text": [
      "(283003, 1024)\n",
      "USE X_train encoding time: 100.65\n"
     ]
    }
   ],
   "source": [
    "t0 = time()\n",
    "sents_0 = np.asarray([p[0] for p in X_train])\n",
    "sents_0 = use_model(sents_0)\n",
    "sents_1 = np.asarray([p[1] for p in X_train])\n",
    "sents_1 = use_model(sents_1)\n",
    "X_train = np.hstack((sents_0, sents_1))\n",
    "print(X_train.shape)\n",
    "enc_time = time() - t0\n",
    "print(f'USE X_train encoding time: {enc_time:.2f}')"
   ]
  },
  {
   "cell_type": "code",
   "execution_count": 21,
   "metadata": {},
   "outputs": [
    {
     "name": "stdout",
     "output_type": "stream",
     "text": [
      "(121287, 1024)\n",
      "USE X_valid encoding time: 38.76\n"
     ]
    }
   ],
   "source": [
    "t0 = time()\n",
    "sents_0 = np.asarray([p[0] for p in X_valid])\n",
    "sents_0 = use_model(sents_0)\n",
    "sents_1 = np.asarray([p[1] for p in X_valid])\n",
    "sents_1 = use_model(sents_1)\n",
    "X_valid = np.hstack((sents_0, sents_1))\n",
    "print(X_valid.shape)\n",
    "enc_time = time() - t0\n",
    "print(f'USE X_valid encoding time: {enc_time:.2f}')"
   ]
  },
  {
   "cell_type": "code",
   "execution_count": 22,
   "metadata": {},
   "outputs": [
    {
     "name": "stderr",
     "output_type": "stream",
     "text": [
      "/home/anna/.conda/envs/tf_work/lib/python3.7/site-packages/sklearn/linear_model/_logistic.py:764: ConvergenceWarning: lbfgs failed to converge (status=1):\n",
      "STOP: TOTAL NO. of ITERATIONS REACHED LIMIT.\n",
      "\n",
      "Increase the number of iterations (max_iter) or scale the data as shown in:\n",
      "    https://scikit-learn.org/stable/modules/preprocessing.html\n",
      "Please also refer to the documentation for alternative solver options:\n",
      "    https://scikit-learn.org/stable/modules/linear_model.html#logistic-regression\n",
      "  extra_warning_msg=_LOGISTIC_SOLVER_CONVERGENCE_MSG)\n"
     ]
    },
    {
     "name": "stdout",
     "output_type": "stream",
     "text": [
      "For classifier: <class 'sklearn.linear_model._logistic.LogisticRegression'>, acc: 72.66, auc: 68.35, p: 66.96, r:51.73, f1: 58.36\n",
      "train time: 19.25 & inf time: 0.49\n",
      "********************************************************************************\n"
     ]
    }
   ],
   "source": [
    "for c in (LogisticRegression,): #(LogisticRegression, LinearSVC):\n",
    "    clf = c()\n",
    "    t0 = time()\n",
    "    clf.fit(X_train, y_train)\n",
    "    train_time = round(time()-t0,2)\n",
    "    \n",
    "    t0 = time()\n",
    "    y_pred = clf.predict(X_valid)\n",
    "    inf_time = round(time()-t0,2)\n",
    "\n",
    "    acc = round(accuracy_score(y_valid, y_pred)*100,2)\n",
    "    f1 = round(f1_score(y_valid, y_pred)*100,2)\n",
    "    auc = round(roc_auc_score(y_valid, y_pred)*100,2)\n",
    "    p = round(precision_score(y_valid, y_pred)*100,2)\n",
    "    r = round(recall_score(y_valid, y_pred)*100,2)\n",
    "    \n",
    "    print(f'For classifier: {c}, acc: {acc}, auc: {auc}, p: {p}, r:{r}, f1: {f1}')\n",
    "    print(f'train time: {train_time} & inf time: {inf_time}')\n",
    "    print('*'*80)\n",
    "    "
   ]
  },
  {
   "cell_type": "code",
   "execution_count": 23,
   "metadata": {},
   "outputs": [
    {
     "name": "stdout",
     "output_type": "stream",
     "text": [
      "Loaded 537933 ids to questions from ./id_ques_map.json\n"
     ]
    }
   ],
   "source": [
    "X_train, X_valid, y_train, y_valid = load_Xy(max_samples)"
   ]
  },
  {
   "cell_type": "code",
   "execution_count": 24,
   "metadata": {},
   "outputs": [
    {
     "name": "stdout",
     "output_type": "stream",
     "text": [
      "(283003, 1536)\n",
      "USE X_train encoding time: 100.86\n"
     ]
    }
   ],
   "source": [
    "t0 = time()\n",
    "sents_0 = np.asarray([p[0] for p in X_train])\n",
    "sents_0 = use_model(sents_0)\n",
    "sents_1 = np.asarray([p[1] for p in X_train])\n",
    "sents_1 = use_model(sents_1)\n",
    "diff = abs(sents_0 - sents_1)\n",
    "X_train = np.hstack((sents_0, sents_1, diff))\n",
    "print(X_train.shape)\n",
    "enc_time = time() - t0\n",
    "print(f'USE X_train encoding time: {enc_time:.2f}')"
   ]
  },
  {
   "cell_type": "code",
   "execution_count": 25,
   "metadata": {},
   "outputs": [
    {
     "name": "stdout",
     "output_type": "stream",
     "text": [
      "(121287, 1536)\n",
      "USE X_valid encoding time: 38.89\n"
     ]
    }
   ],
   "source": [
    "t0 = time()\n",
    "sents_0 = np.asarray([p[0] for p in X_valid])\n",
    "sents_0 = use_model(sents_0)\n",
    "sents_1 = np.asarray([p[1] for p in X_valid])\n",
    "sents_1 = use_model(sents_1)\n",
    "diff = abs(sents_0 - sents_1)\n",
    "X_valid = np.hstack((sents_0, sents_1, diff))\n",
    "print(X_valid.shape)\n",
    "enc_time = time() - t0\n",
    "print(f'USE X_valid encoding time: {enc_time:.2f}')"
   ]
  },
  {
   "cell_type": "code",
   "execution_count": 26,
   "metadata": {},
   "outputs": [
    {
     "name": "stderr",
     "output_type": "stream",
     "text": [
      "/home/anna/.conda/envs/tf_work/lib/python3.7/site-packages/sklearn/linear_model/_logistic.py:764: ConvergenceWarning: lbfgs failed to converge (status=1):\n",
      "STOP: TOTAL NO. of ITERATIONS REACHED LIMIT.\n",
      "\n",
      "Increase the number of iterations (max_iter) or scale the data as shown in:\n",
      "    https://scikit-learn.org/stable/modules/preprocessing.html\n",
      "Please also refer to the documentation for alternative solver options:\n",
      "    https://scikit-learn.org/stable/modules/linear_model.html#logistic-regression\n",
      "  extra_warning_msg=_LOGISTIC_SOLVER_CONVERGENCE_MSG)\n"
     ]
    },
    {
     "name": "stdout",
     "output_type": "stream",
     "text": [
      "For classifier: <class 'sklearn.linear_model._logistic.LogisticRegression'>, acc: 80.11, auc: 78.52, p: 73.54, r:72.37, f1: 72.95\n",
      "train time: 23.71 & inf time: 0.73\n",
      "********************************************************************************\n"
     ]
    }
   ],
   "source": [
    "for c in (LogisticRegression,): #(LogisticRegression, LinearSVC):\n",
    "    clf = c()\n",
    "    t0 = time()\n",
    "    clf.fit(X_train, y_train)\n",
    "    train_time = round(time()-t0,2)\n",
    "    \n",
    "    t0 = time()\n",
    "    y_pred = clf.predict(X_valid)\n",
    "    inf_time = round(time()-t0,2)\n",
    "\n",
    "    acc = round(accuracy_score(y_valid, y_pred)*100,2)\n",
    "    f1 = round(f1_score(y_valid, y_pred)*100,2)\n",
    "    auc = round(roc_auc_score(y_valid, y_pred)*100,2)\n",
    "    p = round(precision_score(y_valid, y_pred)*100,2)\n",
    "    r = round(recall_score(y_valid, y_pred)*100,2)\n",
    "    \n",
    "    print(f'For classifier: {c}, acc: {acc}, auc: {auc}, p: {p}, r:{r}, f1: {f1}')\n",
    "    print(f'train time: {train_time} & inf time: {inf_time}')\n",
    "    print('*'*80)"
   ]
  },
  {
   "cell_type": "code",
   "execution_count": null,
   "metadata": {},
   "outputs": [],
   "source": []
  },
  {
   "cell_type": "code",
   "execution_count": null,
   "metadata": {},
   "outputs": [],
   "source": []
  }
 ],
 "metadata": {
  "kernelspec": {
   "display_name": "Python [conda env:.conda-tf_work]",
   "language": "python",
   "name": "conda-env-.conda-tf_work-py"
  },
  "language_info": {
   "codemirror_mode": {
    "name": "ipython",
    "version": 3
   },
   "file_extension": ".py",
   "mimetype": "text/x-python",
   "name": "python",
   "nbconvert_exporter": "python",
   "pygments_lexer": "ipython3",
   "version": "3.7.0"
  }
 },
 "nbformat": 4,
 "nbformat_minor": 4
}
