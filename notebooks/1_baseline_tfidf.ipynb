{
 "cells": [
  {
   "cell_type": "code",
   "execution_count": 1,
   "metadata": {},
   "outputs": [],
   "source": [
    "import numpy as np\n",
    "import json\n",
    "from sklearn.feature_extraction.text import TfidfVectorizer\n",
    "from scipy.sparse import hstack\n",
    "import ast\n",
    "from sklearn.linear_model import LogisticRegression\n",
    "from sklearn.svm import LinearSVC\n",
    "from sklearn.metrics import accuracy_score, f1_score, roc_auc_score\n",
    "from time import time"
   ]
  },
  {
   "cell_type": "code",
   "execution_count": 2,
   "metadata": {},
   "outputs": [],
   "source": [
    "with open('id_ques_map.json') as fh:\n",
    "    id_ques_map = json.load(fh)\n",
    "id_ques_map = {int(k):str(v) for k,v in  id_ques_map.items()}\n",
    "id_ques_map[0] = ''\n",
    "    \n",
    "train_pairs = np.array([list(ast.literal_eval(l.strip())) for l in open('train_pairs.txt').readlines()])\n",
    "valid_pairs = np.array([list(ast.literal_eval(l.strip())) for l in open('valid_pairs.txt').readlines()])\n",
    "y_train = np.loadtxt('y_train.txt')\n",
    "y_valid = np.loadtxt('y_valid.txt')"
   ]
  },
  {
   "cell_type": "code",
   "execution_count": 3,
   "metadata": {},
   "outputs": [
    {
     "data": {
      "text/plain": [
       "537933"
      ]
     },
     "execution_count": 3,
     "metadata": {},
     "output_type": "execute_result"
    }
   ],
   "source": [
    "max(id_ques_map.keys())"
   ]
  },
  {
   "cell_type": "code",
   "execution_count": 4,
   "metadata": {},
   "outputs": [],
   "source": [
    "sents = []\n",
    "for i in range(max(id_ques_map)+1):\n",
    "    try:\n",
    "        sents.append(str(id_ques_map[i]))\n",
    "    except KeyError:\n",
    "        print(f'key {i} is missing')"
   ]
  },
  {
   "cell_type": "code",
   "execution_count": 5,
   "metadata": {},
   "outputs": [
    {
     "data": {
      "text/plain": [
       "set()"
      ]
     },
     "execution_count": 5,
     "metadata": {},
     "output_type": "execute_result"
    }
   ],
   "source": [
    "set(range(537934))-set(id_ques_map.keys())"
   ]
  },
  {
   "cell_type": "code",
   "execution_count": 6,
   "metadata": {},
   "outputs": [
    {
     "name": "stdout",
     "output_type": "stream",
     "text": [
      "TFIDF (whole dataset) encoding time: 5.85\n"
     ]
    }
   ],
   "source": [
    "t0 = time()\n",
    "X = TfidfVectorizer().fit_transform(sents)\n",
    "enc_time = time() - t0\n",
    "print(f'TFIDF (whole dataset) encoding time: {enc_time:.2f}')"
   ]
  },
  {
   "cell_type": "code",
   "execution_count": 7,
   "metadata": {},
   "outputs": [
    {
     "data": {
      "text/plain": [
       "(537934, 86153)"
      ]
     },
     "execution_count": 7,
     "metadata": {},
     "output_type": "execute_result"
    }
   ],
   "source": [
    "X.shape"
   ]
  },
  {
   "cell_type": "code",
   "execution_count": 8,
   "metadata": {},
   "outputs": [
    {
     "data": {
      "text/plain": [
       "(537930, 537932)"
      ]
     },
     "execution_count": 8,
     "metadata": {},
     "output_type": "execute_result"
    }
   ],
   "source": [
    "max(train_pairs[:,0]), max(valid_pairs[:,0])"
   ]
  },
  {
   "cell_type": "code",
   "execution_count": 9,
   "metadata": {},
   "outputs": [
    {
     "data": {
      "text/plain": [
       "(537931, 537933)"
      ]
     },
     "execution_count": 9,
     "metadata": {},
     "output_type": "execute_result"
    }
   ],
   "source": [
    "max(train_pairs[:,1]), max(valid_pairs[:,1])"
   ]
  },
  {
   "cell_type": "code",
   "execution_count": 11,
   "metadata": {},
   "outputs": [
    {
     "data": {
      "text/plain": [
       "((283003, 172306), (121287, 172306))"
      ]
     },
     "execution_count": 11,
     "metadata": {},
     "output_type": "execute_result"
    }
   ],
   "source": [
    "X_1 = X[train_pairs[:,0]]\n",
    "X_2 = X[train_pairs[:,1]]\n",
    "X_train = hstack((X_1,X_2))\n",
    "\n",
    "X_1 = X[valid_pairs[:,0]]\n",
    "X_2 = X[valid_pairs[:,1]]\n",
    "X_valid = hstack((X_1,X_2))\n",
    "\n",
    "X_train.shape, X_valid.shape"
   ]
  },
  {
   "cell_type": "code",
   "execution_count": 12,
   "metadata": {},
   "outputs": [
    {
     "name": "stderr",
     "output_type": "stream",
     "text": [
      "/home/anna/.conda/envs/work/lib/python3.7/site-packages/sklearn/linear_model/_logistic.py:764: ConvergenceWarning: lbfgs failed to converge (status=1):\n",
      "STOP: TOTAL NO. of ITERATIONS REACHED LIMIT.\n",
      "\n",
      "Increase the number of iterations (max_iter) or scale the data as shown in:\n",
      "    https://scikit-learn.org/stable/modules/preprocessing.html\n",
      "Please also refer to the documentation for alternative solver options:\n",
      "    https://scikit-learn.org/stable/modules/linear_model.html#logistic-regression\n",
      "  extra_warning_msg=_LOGISTIC_SOLVER_CONVERGENCE_MSG)\n"
     ]
    },
    {
     "name": "stdout",
     "output_type": "stream",
     "text": [
      "For classifier: <class 'sklearn.linear_model._logistic.LogisticRegression'>, acc: 75.72, f1: 63.76, auc: 72.0\n",
      "train time: 14.56 & inf time: 0.11\n",
      "********************************************************************************\n",
      "For classifier: <class 'sklearn.svm._classes.LinearSVC'>, acc: 74.94, f1: 64.98, auc: 72.43\n",
      "train time: 8.3 & inf time: 0.07\n",
      "********************************************************************************\n"
     ]
    }
   ],
   "source": [
    "for c in (LogisticRegression, LinearSVC):\n",
    "    clf = c()\n",
    "    t0 = time()\n",
    "    clf.fit(X_train, y_train)\n",
    "    train_time = round(time()-t0,2)\n",
    "    \n",
    "    t0 = time()\n",
    "    y_pred = clf.predict(X_valid)\n",
    "    inf_time = round(time()-t0,2)\n",
    "\n",
    "    acc = round(accuracy_score(y_valid, y_pred)*100,2)\n",
    "    f1 = round(f1_score(y_valid, y_pred)*100,2)\n",
    "    auc = round(roc_auc_score(y_valid, y_pred)*100,2)\n",
    "    \n",
    "    print(f'For classifier: {c}, acc: {acc}, f1: {f1}, auc: {auc}')\n",
    "    print(f'train time: {train_time} & inf time: {inf_time}')\n",
    "    print('*'*80)\n",
    "    "
   ]
  },
  {
   "cell_type": "code",
   "execution_count": 14,
   "metadata": {},
   "outputs": [
    {
     "data": {
      "text/plain": [
       "((283003, 258459), (121287, 258459))"
      ]
     },
     "execution_count": 14,
     "metadata": {},
     "output_type": "execute_result"
    }
   ],
   "source": [
    "X_1 = X[train_pairs[:,0]]\n",
    "X_2 = X[train_pairs[:,1]]\n",
    "X_diff = abs(X_1-X_2)\n",
    "X_train = hstack((X_1,X_2, X_diff))\n",
    "\n",
    "X_1 = X[valid_pairs[:,0]]\n",
    "X_2 = X[valid_pairs[:,1]]\n",
    "X_diff = abs(X_1-X_2)\n",
    "X_valid = hstack((X_1,X_2, X_diff))\n",
    "\n",
    "X_train.shape, X_valid.shape"
   ]
  },
  {
   "cell_type": "code",
   "execution_count": 15,
   "metadata": {},
   "outputs": [
    {
     "name": "stderr",
     "output_type": "stream",
     "text": [
      "/home/anna/.conda/envs/work/lib/python3.7/site-packages/sklearn/linear_model/_logistic.py:764: ConvergenceWarning: lbfgs failed to converge (status=1):\n",
      "STOP: TOTAL NO. of ITERATIONS REACHED LIMIT.\n",
      "\n",
      "Increase the number of iterations (max_iter) or scale the data as shown in:\n",
      "    https://scikit-learn.org/stable/modules/preprocessing.html\n",
      "Please also refer to the documentation for alternative solver options:\n",
      "    https://scikit-learn.org/stable/modules/linear_model.html#logistic-regression\n",
      "  extra_warning_msg=_LOGISTIC_SOLVER_CONVERGENCE_MSG)\n"
     ]
    },
    {
     "name": "stdout",
     "output_type": "stream",
     "text": [
      "For classifier: <class 'sklearn.linear_model._logistic.LogisticRegression'>, acc: 80.86, f1: 73.23, auc: 78.76\n",
      "train time: 20.58 & inf time: 0.15\n",
      "********************************************************************************\n",
      "For classifier: <class 'sklearn.svm._classes.LinearSVC'>, acc: 81.03, f1: 74.6, auc: 79.83\n",
      "train time: 11.71 & inf time: 0.12\n",
      "********************************************************************************\n"
     ]
    }
   ],
   "source": [
    "for c in (LogisticRegression, LinearSVC):\n",
    "    clf = c()\n",
    "    t0 = time()\n",
    "    clf.fit(X_train, y_train)\n",
    "    train_time = round(time()-t0,2)\n",
    "    \n",
    "    t0 = time()\n",
    "    y_pred = clf.predict(X_valid)\n",
    "    inf_time = round(time()-t0,2)\n",
    "\n",
    "    acc = round(accuracy_score(y_valid, y_pred)*100,2)\n",
    "    f1 = round(f1_score(y_valid, y_pred)*100,2)\n",
    "    auc = round(roc_auc_score(y_valid, y_pred)*100,2)\n",
    "    \n",
    "    print(f'For classifier: {c}, acc: {acc}, f1: {f1}, auc: {auc}')\n",
    "    print(f'train time: {train_time} & inf time: {inf_time}')\n",
    "    print('*'*80)\n",
    "    "
   ]
  },
  {
   "cell_type": "code",
   "execution_count": null,
   "metadata": {},
   "outputs": [],
   "source": []
  }
 ],
 "metadata": {
  "kernelspec": {
   "display_name": "Python [conda env:.conda-work]",
   "language": "python",
   "name": "conda-env-.conda-work-py"
  },
  "language_info": {
   "codemirror_mode": {
    "name": "ipython",
    "version": 3
   },
   "file_extension": ".py",
   "mimetype": "text/x-python",
   "name": "python",
   "nbconvert_exporter": "python",
   "pygments_lexer": "ipython3",
   "version": "3.7.0"
  }
 },
 "nbformat": 4,
 "nbformat_minor": 4
}
