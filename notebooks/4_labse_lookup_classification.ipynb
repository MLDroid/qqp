{
 "cells": [
  {
   "cell_type": "code",
   "execution_count": 1,
   "metadata": {},
   "outputs": [],
   "source": [
    "import os\n",
    "from absl import logging\n",
    "\n",
    "import tensorflow as tf\n",
    "import tensorflow_hub as hub\n",
    "import matplotlib.pyplot as plt\n",
    "import re\n",
    "import seaborn as sns\n",
    "from sklearn.metrics import roc_auc_score, f1_score, accuracy_score, precision_score, recall_score\n",
    "from tqdm import tqdm\n",
    "import ast, json, numpy as np"
   ]
  },
  {
   "cell_type": "code",
   "execution_count": 2,
   "metadata": {},
   "outputs": [],
   "source": [
    "from sklearn.linear_model import LogisticRegression\n",
    "from sklearn.svm import LinearSVC\n",
    "from time import time\n",
    "from sklearn.preprocessing import normalize"
   ]
  },
  {
   "cell_type": "code",
   "execution_count": 3,
   "metadata": {},
   "outputs": [],
   "source": [
    "X_train_fname = './train_pairs.txt'\n",
    "X_valid_fname = './valid_pairs.txt'\n",
    "id_ques_map_fname = './id_ques_map.json'\n",
    "y_train_fname = './y_train.txt'\n",
    "y_valid_fname = './y_valid.txt'\n",
    "\n",
    "def load_id_ques_map(fname):\n",
    "    with open(fname) as fh:\n",
    "        id_ques_map = json.load(fh)\n",
    "    id_ques_map = {int(k): str(v) for k, v in id_ques_map.items()}\n",
    "    id_ques_map[0] = ''\n",
    "    print(f'Loaded {max(id_ques_map.keys())} ids to questions from {fname}')\n",
    "    return id_ques_map\n",
    "\n",
    "\n",
    "def load_Xy(max_samples=None):\n",
    "    train_pairs = np.array([list(ast.literal_eval(l.strip())) for l in\n",
    "                            open(X_train_fname).readlines()])[:max_samples]\n",
    "    valid_pairs = np.array([list(ast.literal_eval(l.strip())) for l in\n",
    "                            open(X_valid_fname).readlines()])[:max_samples]\n",
    "\n",
    "    id_ques_map = load_id_ques_map(id_ques_map_fname)\n",
    "    X_train = [(id_ques_map[i], id_ques_map[j]) for i,j in train_pairs]\n",
    "    X_valid = [(id_ques_map[i], id_ques_map[j]) for i,j in valid_pairs]\n",
    "\n",
    "    y_train = np.loadtxt(y_train_fname).astype(int)[:max_samples]\n",
    "    y_valid = np.loadtxt(y_valid_fname).astype(int)[:max_samples]\n",
    "\n",
    "    return X_train, X_valid, y_train, y_valid"
   ]
  },
  {
   "cell_type": "code",
   "execution_count": 4,
   "metadata": {},
   "outputs": [],
   "source": [
    "max_samples = None"
   ]
  },
  {
   "cell_type": "code",
   "execution_count": 5,
   "metadata": {},
   "outputs": [
    {
     "name": "stdout",
     "output_type": "stream",
     "text": [
      "Loaded 537933 ids to questions from ./id_ques_map.json\n"
     ]
    }
   ],
   "source": [
    "X_train, X_valid, y_train, y_valid = load_Xy(max_samples)"
   ]
  },
  {
   "cell_type": "code",
   "execution_count": 6,
   "metadata": {},
   "outputs": [],
   "source": [
    "import numpy as np\n",
    "import tensorflow as tf\n",
    "import tensorflow_hub as hub\n",
    "\n",
    "def get_model(model_url, max_seq_length):\n",
    "  labse_layer = hub.KerasLayer(model_url, trainable=True)\n",
    "\n",
    "  # Define input.\n",
    "  input_word_ids = tf.keras.layers.Input(shape=(max_seq_length,), dtype=tf.int32,\n",
    "                                         name=\"input_word_ids\")\n",
    "  input_mask = tf.keras.layers.Input(shape=(max_seq_length,), dtype=tf.int32,\n",
    "                                     name=\"input_mask\")\n",
    "  segment_ids = tf.keras.layers.Input(shape=(max_seq_length,), dtype=tf.int32,\n",
    "                                      name=\"segment_ids\")\n",
    "\n",
    "  # LaBSE layer.\n",
    "  pooled_output,  _ = labse_layer([input_word_ids, input_mask, segment_ids])\n",
    "\n",
    "  # The embedding is l2 normalized.\n",
    "  pooled_output = tf.keras.layers.Lambda(\n",
    "      lambda x: tf.nn.l2_normalize(x, axis=1))(pooled_output)\n",
    "\n",
    "  # Define model.\n",
    "  return tf.keras.Model(\n",
    "        inputs=[input_word_ids, input_mask, segment_ids],\n",
    "        outputs=pooled_output), labse_layer\n",
    "\n",
    "max_seq_length = 64\n",
    "labse_model, labse_layer = get_model(\n",
    "    model_url=\"https://tfhub.dev/google/LaBSE/1\", max_seq_length=max_seq_length)"
   ]
  },
  {
   "cell_type": "code",
   "execution_count": 7,
   "metadata": {},
   "outputs": [],
   "source": [
    "import bert\n",
    "\n",
    "vocab_file = labse_layer.resolved_object.vocab_file.asset_path.numpy()\n",
    "do_lower_case = labse_layer.resolved_object.do_lower_case.numpy()\n",
    "tokenizer = bert.bert_tokenization.FullTokenizer(vocab_file, do_lower_case)\n",
    "\n",
    "def create_input(input_strings, tokenizer, max_seq_length):\n",
    "\n",
    "  input_ids_all, input_mask_all, segment_ids_all = [], [], []\n",
    "  for input_string in input_strings:\n",
    "    # Tokenize input.\n",
    "    input_tokens = [\"[CLS]\"] + tokenizer.tokenize(input_string) + [\"[SEP]\"]\n",
    "    input_ids = tokenizer.convert_tokens_to_ids(input_tokens)\n",
    "    sequence_length = min(len(input_ids), max_seq_length)\n",
    "\n",
    "    # Padding or truncation.\n",
    "    if len(input_ids) >= max_seq_length:\n",
    "      input_ids = input_ids[:max_seq_length]\n",
    "    else:\n",
    "      input_ids = input_ids + [0] * (max_seq_length - len(input_ids))\n",
    "\n",
    "    input_mask = [1] * sequence_length + [0] * (max_seq_length - sequence_length)\n",
    "\n",
    "    input_ids_all.append(input_ids)\n",
    "    input_mask_all.append(input_mask)\n",
    "    segment_ids_all.append([0] * max_seq_length)\n",
    "\n",
    "  return np.array(input_ids_all), np.array(input_mask_all), np.array(segment_ids_all)\n",
    "\n",
    "def encode(input_text):\n",
    "  input_ids, input_mask, segment_ids = create_input(\n",
    "    input_text, tokenizer, max_seq_length)\n",
    "  return labse_model([input_ids, input_mask, segment_ids])"
   ]
  },
  {
   "cell_type": "code",
   "execution_count": 8,
   "metadata": {},
   "outputs": [],
   "source": [
    "def chunks(lst, n):\n",
    "    \"\"\"Yield successive n-sized chunks from lst.\"\"\"\n",
    "    for i in range(0, len(lst), n):\n",
    "        yield lst[i:i + n]"
   ]
  },
  {
   "cell_type": "code",
   "execution_count": 9,
   "metadata": {},
   "outputs": [
    {
     "name": "stderr",
     "output_type": "stream",
     "text": [
      "100%|██████████| 2831/2831 [23:05<00:00,  2.04it/s]\n",
      "100%|██████████| 2831/2831 [23:14<00:00,  2.03it/s]\n"
     ]
    },
    {
     "name": "stdout",
     "output_type": "stream",
     "text": [
      "LaBSE encoding time: 2781.76\n"
     ]
    }
   ],
   "source": [
    "sents_0 = np.asarray([p[0] for p in X_train])\n",
    "sents_1 = np.asarray([p[1] for p in X_train])\n",
    "t0 = time()\n",
    "labse_vec = []\n",
    "for batch in tqdm(list(chunks(sents_0, 100))):\n",
    "    labse_vec.append(encode(batch))\n",
    "sents_0 = np.vstack(labse_vec)\n",
    "\n",
    "labse_vec = []\n",
    "for batch in tqdm(list(chunks(sents_1, 100))):\n",
    "    labse_vec.append(encode(batch))\n",
    "sents_1 = np.vstack(labse_vec)\n",
    "enc_time = time() - t0\n",
    "print(f'LaBSE encoding time: {enc_time:.2f}')"
   ]
  },
  {
   "cell_type": "code",
   "execution_count": 10,
   "metadata": {},
   "outputs": [
    {
     "data": {
      "text/plain": [
       "(283003, 1536)"
      ]
     },
     "execution_count": 10,
     "metadata": {},
     "output_type": "execute_result"
    }
   ],
   "source": [
    "X_train = np.hstack((sents_0, sents_1))\n",
    "X_train.shape"
   ]
  },
  {
   "cell_type": "code",
   "execution_count": 11,
   "metadata": {},
   "outputs": [
    {
     "name": "stderr",
     "output_type": "stream",
     "text": [
      "100%|██████████| 1213/1213 [09:59<00:00,  2.02it/s]\n",
      "100%|██████████| 1213/1213 [09:56<00:00,  2.03it/s]\n"
     ]
    },
    {
     "name": "stdout",
     "output_type": "stream",
     "text": [
      "LaBSE encoding time: 1198.00\n"
     ]
    }
   ],
   "source": [
    "sents_0 = np.asarray([p[0] for p in X_valid])\n",
    "sents_1 = np.asarray([p[1] for p in X_valid])\n",
    "t0 = time()\n",
    "labse_vec = []\n",
    "for batch in tqdm(list(chunks(sents_0, 100))):\n",
    "    labse_vec.append(encode(batch))\n",
    "sents_0 = np.vstack(labse_vec)\n",
    "\n",
    "labse_vec = []\n",
    "for batch in tqdm(list(chunks(sents_1, 100))):\n",
    "    labse_vec.append(encode(batch))\n",
    "sents_1 = np.vstack(labse_vec)\n",
    "enc_time = time() - t0\n",
    "print(f'LaBSE encoding time: {enc_time:.2f}')"
   ]
  },
  {
   "cell_type": "code",
   "execution_count": 12,
   "metadata": {},
   "outputs": [
    {
     "data": {
      "text/plain": [
       "(121287, 1536)"
      ]
     },
     "execution_count": 12,
     "metadata": {},
     "output_type": "execute_result"
    }
   ],
   "source": [
    "X_valid = np.hstack((sents_0, sents_1))\n",
    "X_valid.shape"
   ]
  },
  {
   "cell_type": "code",
   "execution_count": 13,
   "metadata": {},
   "outputs": [
    {
     "name": "stderr",
     "output_type": "stream",
     "text": [
      "/home/anna/.conda/envs/tf_work/lib/python3.7/site-packages/sklearn/linear_model/_logistic.py:764: ConvergenceWarning: lbfgs failed to converge (status=1):\n",
      "STOP: TOTAL NO. of ITERATIONS REACHED LIMIT.\n",
      "\n",
      "Increase the number of iterations (max_iter) or scale the data as shown in:\n",
      "    https://scikit-learn.org/stable/modules/preprocessing.html\n",
      "Please also refer to the documentation for alternative solver options:\n",
      "    https://scikit-learn.org/stable/modules/linear_model.html#logistic-regression\n",
      "  extra_warning_msg=_LOGISTIC_SOLVER_CONVERGENCE_MSG)\n"
     ]
    },
    {
     "name": "stdout",
     "output_type": "stream",
     "text": [
      "For classifier: <class 'sklearn.linear_model._logistic.LogisticRegression'>, acc: 72.34, auc: 67.78, p: 66.9, r:50.18, f1: 57.34\n",
      "train time: 24.8 & inf time: 0.72\n",
      "********************************************************************************\n"
     ]
    }
   ],
   "source": [
    "for c in (LogisticRegression,): #(LogisticRegression, LinearSVC):\n",
    "    clf = c()\n",
    "    t0 = time()\n",
    "    clf.fit(X_train, y_train)\n",
    "    train_time = round(time()-t0,2)\n",
    "    \n",
    "    t0 = time()\n",
    "    y_pred = clf.predict(X_valid)\n",
    "    inf_time = round(time()-t0,2)\n",
    "\n",
    "    acc = round(accuracy_score(y_valid, y_pred)*100,2)\n",
    "    f1 = round(f1_score(y_valid, y_pred)*100,2)\n",
    "    auc = round(roc_auc_score(y_valid, y_pred)*100,2)\n",
    "    p = round(precision_score(y_valid, y_pred)*100,2)\n",
    "    r = round(recall_score(y_valid, y_pred)*100,2)\n",
    "    \n",
    "    print(f'For classifier: {c}, acc: {acc}, auc: {auc}, p: {p}, r:{r}, f1: {f1}')\n",
    "    print(f'train time: {train_time} & inf time: {inf_time}')\n",
    "    print('*'*80)"
   ]
  },
  {
   "cell_type": "code",
   "execution_count": 14,
   "metadata": {},
   "outputs": [
    {
     "name": "stdout",
     "output_type": "stream",
     "text": [
      "Loaded 537933 ids to questions from ./id_ques_map.json\n"
     ]
    }
   ],
   "source": [
    "X_train, X_valid, y_train, y_valid = load_Xy(max_samples)"
   ]
  },
  {
   "cell_type": "code",
   "execution_count": 16,
   "metadata": {},
   "outputs": [
    {
     "name": "stderr",
     "output_type": "stream",
     "text": [
      "100%|██████████| 2831/2831 [23:04<00:00,  2.04it/s]\n",
      "100%|██████████| 2831/2831 [23:08<00:00,  2.04it/s]\n"
     ]
    },
    {
     "name": "stdout",
     "output_type": "stream",
     "text": [
      "LaBSE encoding time: 2775.15\n"
     ]
    }
   ],
   "source": [
    "sents_0 = np.asarray([p[0] for p in X_train])\n",
    "sents_1 = np.asarray([p[1] for p in X_train])\n",
    "t0 = time()\n",
    "labse_vec = []\n",
    "for batch in tqdm(list(chunks(sents_0, 100))):\n",
    "    labse_vec.append(encode(batch))\n",
    "sents_0 = np.vstack(labse_vec)\n",
    "\n",
    "labse_vec = []\n",
    "for batch in tqdm(list(chunks(sents_1, 100))):\n",
    "    labse_vec.append(encode(batch))\n",
    "sents_1 = np.vstack(labse_vec)\n",
    "enc_time = time() - t0\n",
    "print(f'LaBSE encoding time: {enc_time:.2f}')"
   ]
  },
  {
   "cell_type": "code",
   "execution_count": 17,
   "metadata": {},
   "outputs": [
    {
     "data": {
      "text/plain": [
       "(283003, 2304)"
      ]
     },
     "execution_count": 17,
     "metadata": {},
     "output_type": "execute_result"
    }
   ],
   "source": [
    "X_train = np.hstack((sents_0, sents_1, abs(sents_0 - sents_1)))\n",
    "X_train.shape"
   ]
  },
  {
   "cell_type": "code",
   "execution_count": 18,
   "metadata": {},
   "outputs": [
    {
     "name": "stderr",
     "output_type": "stream",
     "text": [
      "100%|██████████| 1213/1213 [09:54<00:00,  2.04it/s]\n",
      "100%|██████████| 1213/1213 [09:50<00:00,  2.06it/s]\n"
     ]
    },
    {
     "name": "stdout",
     "output_type": "stream",
     "text": [
      "LaBSE encoding time: 1186.18\n"
     ]
    }
   ],
   "source": [
    "sents_0 = np.asarray([p[0] for p in X_valid])\n",
    "sents_1 = np.asarray([p[1] for p in X_valid])\n",
    "t0 = time()\n",
    "labse_vec = []\n",
    "for batch in tqdm(list(chunks(sents_0, 100))):\n",
    "    labse_vec.append(encode(batch))\n",
    "sents_0 = np.vstack(labse_vec)\n",
    "\n",
    "labse_vec = []\n",
    "for batch in tqdm(list(chunks(sents_1, 100))):\n",
    "    labse_vec.append(encode(batch))\n",
    "sents_1 = np.vstack(labse_vec)\n",
    "enc_time = time() - t0\n",
    "print(f'LaBSE encoding time: {enc_time:.2f}')"
   ]
  },
  {
   "cell_type": "code",
   "execution_count": 19,
   "metadata": {},
   "outputs": [
    {
     "data": {
      "text/plain": [
       "(121287, 2304)"
      ]
     },
     "execution_count": 19,
     "metadata": {},
     "output_type": "execute_result"
    }
   ],
   "source": [
    "X_valid = np.hstack((sents_0, sents_1, abs(sents_0 - sents_1)))\n",
    "X_valid.shape"
   ]
  },
  {
   "cell_type": "code",
   "execution_count": 20,
   "metadata": {},
   "outputs": [
    {
     "name": "stderr",
     "output_type": "stream",
     "text": [
      "/home/anna/.conda/envs/tf_work/lib/python3.7/site-packages/sklearn/linear_model/_logistic.py:764: ConvergenceWarning: lbfgs failed to converge (status=1):\n",
      "STOP: TOTAL NO. of ITERATIONS REACHED LIMIT.\n",
      "\n",
      "Increase the number of iterations (max_iter) or scale the data as shown in:\n",
      "    https://scikit-learn.org/stable/modules/preprocessing.html\n",
      "Please also refer to the documentation for alternative solver options:\n",
      "    https://scikit-learn.org/stable/modules/linear_model.html#logistic-regression\n",
      "  extra_warning_msg=_LOGISTIC_SOLVER_CONVERGENCE_MSG)\n"
     ]
    },
    {
     "name": "stdout",
     "output_type": "stream",
     "text": [
      "For classifier: <class 'sklearn.linear_model._logistic.LogisticRegression'>, acc: 81.08, auc: 79.34, p: 75.38, r:72.66, f1: 73.99\n",
      "train time: 31.69 & inf time: 2.06\n",
      "********************************************************************************\n"
     ]
    }
   ],
   "source": [
    "for c in (LogisticRegression,): #(LogisticRegression, LinearSVC):\n",
    "    clf = c()\n",
    "    t0 = time()\n",
    "    clf.fit(X_train, y_train)\n",
    "    train_time = round(time()-t0,2)\n",
    "    \n",
    "    t0 = time()\n",
    "    y_pred = clf.predict(X_valid)\n",
    "    inf_time = round(time()-t0,2)\n",
    "\n",
    "    acc = round(accuracy_score(y_valid, y_pred)*100,2)\n",
    "    f1 = round(f1_score(y_valid, y_pred)*100,2)\n",
    "    auc = round(roc_auc_score(y_valid, y_pred)*100,2)\n",
    "    p = round(precision_score(y_valid, y_pred)*100,2)\n",
    "    r = round(recall_score(y_valid, y_pred)*100,2)\n",
    "    \n",
    "    print(f'For classifier: {c}, acc: {acc}, auc: {auc}, p: {p}, r:{r}, f1: {f1}')\n",
    "    print(f'train time: {train_time} & inf time: {inf_time}')\n",
    "    print('*'*80)"
   ]
  },
  {
   "cell_type": "code",
   "execution_count": null,
   "metadata": {},
   "outputs": [],
   "source": []
  }
 ],
 "metadata": {
  "kernelspec": {
   "display_name": "Python [conda env:.conda-tf_work]",
   "language": "python",
   "name": "conda-env-.conda-tf_work-py"
  },
  "language_info": {
   "codemirror_mode": {
    "name": "ipython",
    "version": 3
   },
   "file_extension": ".py",
   "mimetype": "text/x-python",
   "name": "python",
   "nbconvert_exporter": "python",
   "pygments_lexer": "ipython3",
   "version": "3.7.0"
  }
 },
 "nbformat": 4,
 "nbformat_minor": 4
}
