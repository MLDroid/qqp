{
 "cells": [
  {
   "cell_type": "code",
   "execution_count": 1,
   "metadata": {},
   "outputs": [],
   "source": [
    "import numpy as np, json, ast\n",
    "from time import time\n",
    "from sentence_transformers import SentenceTransformer"
   ]
  },
  {
   "cell_type": "code",
   "execution_count": 2,
   "metadata": {},
   "outputs": [],
   "source": [
    "with open('id_ques_map.json') as fh:\n",
    "    id_ques_map = json.load(fh)\n",
    "id_ques_map = {int(k):str(v) for k,v in  id_ques_map.items()}\n",
    "id_ques_map[0] = ''\n",
    "    \n",
    "train_pairs = np.array([list(ast.literal_eval(l.strip())) for l in open('train_pairs.txt').readlines()])\n",
    "valid_pairs = np.array([list(ast.literal_eval(l.strip())) for l in open('valid_pairs.txt').readlines()])\n",
    "y_train = np.loadtxt('y_train.txt')\n",
    "y_valid = np.loadtxt('y_valid.txt')"
   ]
  },
  {
   "cell_type": "code",
   "execution_count": 3,
   "metadata": {},
   "outputs": [
    {
     "data": {
      "text/plain": [
       "537933"
      ]
     },
     "execution_count": 3,
     "metadata": {},
     "output_type": "execute_result"
    }
   ],
   "source": [
    "max(id_ques_map.keys())"
   ]
  },
  {
   "cell_type": "code",
   "execution_count": 4,
   "metadata": {},
   "outputs": [],
   "source": [
    "sents = []\n",
    "for i in range(max(id_ques_map)+1):\n",
    "    try:\n",
    "        sents.append(str(id_ques_map[i]))\n",
    "    except KeyError:\n",
    "        print(f'key {i} is missing')"
   ]
  },
  {
   "cell_type": "code",
   "execution_count": 5,
   "metadata": {},
   "outputs": [
    {
     "data": {
      "text/plain": [
       "set()"
      ]
     },
     "execution_count": 5,
     "metadata": {},
     "output_type": "execute_result"
    }
   ],
   "source": [
    "set(range(537934))-set(id_ques_map.keys())"
   ]
  },
  {
   "cell_type": "code",
   "execution_count": 9,
   "metadata": {},
   "outputs": [
    {
     "name": "stdout",
     "output_type": "stream",
     "text": [
      "for model: distilbert-base-nli-stsb-mean-tokens, encoding time: 414.56 sec, emnbeddings saved in distilbert-base-nli-stsb-mean-tokens_sent_embeddings.npy\n",
      "for model: roberta-base-nli-stsb-mean-tokens, encoding time: 788.67 sec, emnbeddings saved in roberta-base-nli-stsb-mean-tokens_sent_embeddings.npy\n"
     ]
    }
   ],
   "source": [
    "for model_name in ('distilbert-base-nli-stsb-mean-tokens', \n",
    "                   'roberta-base-nli-stsb-mean-tokens'):         \n",
    "    model = SentenceTransformer(model_name)\n",
    "    emb_fname = f'{model_name}_sent_embeddings.npy'\n",
    "    t0 = time()\n",
    "    X = model.encode(sents[:])\n",
    "    encode_time = round(time() - t0,2)\n",
    "    np.save(emb_fname, X)\n",
    "    print(f'for model: {model_name}, encoding time: {encode_time} sec, embedding saved in {emb_fname}')"
   ]
  },
  {
   "cell_type": "code",
   "execution_count": null,
   "metadata": {},
   "outputs": [],
   "source": []
  }
 ],
 "metadata": {
  "kernelspec": {
   "display_name": "Python 3",
   "language": "python",
   "name": "python3"
  },
  "language_info": {
   "codemirror_mode": {
    "name": "ipython",
    "version": 3
   },
   "file_extension": ".py",
   "mimetype": "text/x-python",
   "name": "python",
   "nbconvert_exporter": "python",
   "pygments_lexer": "ipython3",
   "version": "3.7.7"
  }
 },
 "nbformat": 4,
 "nbformat_minor": 4
}
